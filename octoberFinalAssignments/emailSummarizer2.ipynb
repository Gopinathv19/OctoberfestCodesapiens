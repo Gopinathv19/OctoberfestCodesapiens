{
 "cells": [
  {
   "cell_type": "code",
   "execution_count": null,
   "metadata": {},
   "outputs": [
    {
     "name": "stdout",
     "output_type": "stream",
     "text": [
      "Please visit this URL to authorize this application: https://accounts.google.com/o/oauth2/auth?response_type=code&client_id=522953999698-51fianftr0t84ifv7usggaprumc7n2rs.apps.googleusercontent.com&redirect_uri=http%3A%2F%2Flocalhost%3A55094%2F&scope=https%3A%2F%2Fwww.googleapis.com%2Fauth%2Fgmail.readonly&state=5kZyCb4YdKP4MAWUI6YAbWQwlCD7oU&access_type=offline\n",
      "Authentication successful\n"
     ]
    }
   ],
   "source": [
    "from google.oauth2.credentials import Credentials\n",
    "from google_auth_oauthlib.flow import InstalledAppFlow\n",
    "import os\n",
    "\n",
    "#endpoint to access the gmail message\n",
    "SCOPES = [\"https://www.googleapis.com/auth/gmail.readonly\"]\n",
    "\n",
    "def authenticate_gmail():\n",
    "    creds = None\n",
    "    \n",
    "    if os.path.exists(\"token.json\"):\n",
    "        creds = Credentials.from_authorized_user_file(\"token.json\", SCOPES)\n",
    "   \n",
    "    if not creds or not creds.valid:\n",
    "        flow = InstalledAppFlow.from_client_secrets_file(\"credentials.json\", SCOPES)\n",
    "        creds = flow.run_local_server(port=0)\n",
    "        with open(\"token.json\", \"w\") as token:\n",
    "            token.write(creds.to_json())\n",
    "\n",
    "    return creds\n",
    "\n",
    "creds = authenticate_gmail()\n",
    "print(\"Authentication successful\")\n"
   ]
  },
  {
   "cell_type": "code",
   "execution_count": null,
   "metadata": {},
   "outputs": [
    {
     "name": "stdout",
     "output_type": "stream",
     "text": [
      "Email Summary:\n",
      " This email appears to be from HP and is promoting their Diwali campaign. Here's a summary of the content:\n",
      "\n",
      "* HP wishes its customers a happy and prosperous Diwali.\n",
      "* The company is launching a new story about an elderly man named Sharad who uses technology to connect with his granddaughter and share stories that are valuable to Indian heritage.\n",
      "* HP encourages recipients to submit their favorite mythological stories or folklore through its website (www.printlearncenter.com/hpdiwali).\n",
      "* The email promotes various HP products, including laptops, desktops, printers, and monitors, with features such as free and fast delivery, 100% original products, and interest-free EMI options.\n",
      "* It also mentions HP's commitment to creating technology that makes life better for everyone and provides contact information for customers to reach out with questions or feedback.\n",
      "* Finally, the email includes links to unsubscribe from future emails and visit HP's website for more information on their privacy policies and practices.\n",
      "\n",
      "Overall, the email appears to be a promotional piece from HP highlighting its products and commitment to social responsibility during Diwali.\n",
      "Error: 400 {\"error\":\"<LM Studio error> Trying to keep the first 4708 tokens when context the overflows. However, the model is loaded with context length of only 4096 tokens, which is not enough. Try to load the model with a larger context length, or provide a shorter input. Error Data: n/a, Additional Data: n/a\"}\n",
      "Email Summary:\n",
      " None\n",
      "Email Summary:\n",
      " The email is an invitation to solve a challenge from InterviewBit. The problem is:\n",
      "\n",
      "\"In a country where everyone wants a boy, each family continues having babies till they have a boy. After a long time, what is the proportion of boys to girls in the country?\"\n",
      "\n",
      "The goal is to calculate this ratio and round off the answer to two decimal places.\n",
      "Error: 400 {\"error\":\"<LM Studio error> Trying to keep the first 4372 tokens when context the overflows. However, the model is loaded with context length of only 4096 tokens, which is not enough. Try to load the model with a larger context length, or provide a shorter input. Error Data: n/a, Additional Data: n/a\"}\n",
      "Email Summary:\n",
      " None\n"
     ]
    }
   ],
   "source": [
    "import requests\n",
    "import base64\n",
    "from google.oauth2.credentials import Credentials\n",
    "from googleapiclient.discovery import build\n",
    "\n",
    " \n",
    "url = \"http://127.0.0.1:1234/v1/chat/completions\"\n",
    "headers = {\"Content-Type\": \"application/json\"}\n",
    "model = \"llama-3b\"\n",
    "\n",
    "def summarize_email(content):\n",
    "    payload = {\n",
    "        \"messages\": [\n",
    "            {\n",
    "                \"role\": \"user\",\n",
    "                \"content\": \"Summarize the following email content:\\n\\n\" + content\n",
    "            }\n",
    "        ],\n",
    "        \"model\": model   \n",
    "    }\n",
    "\n",
    "    response = requests.post(url, headers=headers, json=payload)\n",
    "    \n",
    "    if response.status_code == 200:\n",
    "        summary = response.json()[\"choices\"][0][\"message\"][\"content\"]\n",
    "        return summary\n",
    "    else:\n",
    "        print(\"Error:\", response.status_code, response.text)\n",
    "        return None\n",
    "\n",
    " \n",
    "def fetch_unread_emails():\n",
    "    creds = Credentials.from_authorized_user_file('token.json', [\"https://www.googleapis.com/auth/gmail.readonly\"])\n",
    "    service = build(\"gmail\", \"v1\", credentials=creds)\n",
    "\n",
    " \n",
    "    results = service.users().messages().list(userId=\"me\", labelIds=[\"UNREAD\"], maxResults=5).execute()\n",
    "    messages = results.get(\"messages\", [])\n",
    "    \n",
    "    if not messages:\n",
    "        print(\"No unread messages found.\")\n",
    "        return\n",
    "\n",
    "    for message in messages:\n",
    "        msg = service.users().messages().get(userId=\"me\", id=message[\"id\"]).execute()\n",
    "        for part in msg.get(\"payload\", {}).get(\"parts\", []):\n",
    "            if part[\"mimeType\"] == \"text/plain\":\n",
    "                email_content = base64.urlsafe_b64decode(part[\"body\"][\"data\"]).decode(\"utf-8\")\n",
    "                summary = summarize_email(email_content)\n",
    "                print(\"Email Summary:\\n\", summary)\n",
    "\n",
    " \n",
    "fetch_unread_emails()\n"
   ]
  }
 ],
 "metadata": {
  "kernelspec": {
   "display_name": "rag",
   "language": "python",
   "name": "python3"
  },
  "language_info": {
   "codemirror_mode": {
    "name": "ipython",
    "version": 3
   },
   "file_extension": ".py",
   "mimetype": "text/x-python",
   "name": "python",
   "nbconvert_exporter": "python",
   "pygments_lexer": "ipython3",
   "version": "3.12.7"
  }
 },
 "nbformat": 4,
 "nbformat_minor": 2
}
