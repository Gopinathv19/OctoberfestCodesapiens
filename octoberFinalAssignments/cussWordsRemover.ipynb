{
  "nbformat": 4,
  "nbformat_minor": 0,
  "metadata": {
    "colab": {
      "provenance": []
    },
    "kernelspec": {
      "name": "python3",
      "display_name": "Python 3"
    },
    "language_info": {
      "name": "python"
    }
  },
  "cells": [
    {
      "cell_type": "code",
      "source": [
        "!pip install git+https://github.com/openai/whisper.git\n"
      ],
      "metadata": {
        "colab": {
          "base_uri": "https://localhost:8080/"
        },
        "id": "xdFYVU4mXiTv",
        "outputId": "8d33148b-5c77-4670-bb38-d05a27b6227f"
      },
      "execution_count": 2,
      "outputs": [
        {
          "output_type": "stream",
          "name": "stdout",
          "text": [
            "Collecting git+https://github.com/openai/whisper.git\n",
            "  Cloning https://github.com/openai/whisper.git to /tmp/pip-req-build-j6yh6y89\n",
            "  Running command git clone --filter=blob:none --quiet https://github.com/openai/whisper.git /tmp/pip-req-build-j6yh6y89\n",
            "  Resolved https://github.com/openai/whisper.git to commit 5979f03701209bb035a0a466f14131aeb1116cbb\n",
            "  Installing build dependencies ... \u001b[?25l\u001b[?25hdone\n",
            "  Getting requirements to build wheel ... \u001b[?25l\u001b[?25hdone\n",
            "  Preparing metadata (pyproject.toml) ... \u001b[?25l\u001b[?25hdone\n",
            "Requirement already satisfied: numba in /usr/local/lib/python3.10/dist-packages (from openai-whisper==20240930) (0.60.0)\n",
            "Requirement already satisfied: numpy in /usr/local/lib/python3.10/dist-packages (from openai-whisper==20240930) (1.26.4)\n",
            "Requirement already satisfied: torch in /usr/local/lib/python3.10/dist-packages (from openai-whisper==20240930) (2.5.0+cu121)\n",
            "Requirement already satisfied: tqdm in /usr/local/lib/python3.10/dist-packages (from openai-whisper==20240930) (4.66.5)\n",
            "Requirement already satisfied: more-itertools in /usr/local/lib/python3.10/dist-packages (from openai-whisper==20240930) (10.5.0)\n",
            "Collecting tiktoken (from openai-whisper==20240930)\n",
            "  Downloading tiktoken-0.8.0-cp310-cp310-manylinux_2_17_x86_64.manylinux2014_x86_64.whl.metadata (6.6 kB)\n",
            "Collecting triton>=2.0.0 (from openai-whisper==20240930)\n",
            "  Downloading triton-3.1.0-cp310-cp310-manylinux_2_17_x86_64.manylinux2014_x86_64.whl.metadata (1.3 kB)\n",
            "Requirement already satisfied: filelock in /usr/local/lib/python3.10/dist-packages (from triton>=2.0.0->openai-whisper==20240930) (3.16.1)\n",
            "Requirement already satisfied: llvmlite<0.44,>=0.43.0dev0 in /usr/local/lib/python3.10/dist-packages (from numba->openai-whisper==20240930) (0.43.0)\n",
            "Requirement already satisfied: regex>=2022.1.18 in /usr/local/lib/python3.10/dist-packages (from tiktoken->openai-whisper==20240930) (2024.9.11)\n",
            "Requirement already satisfied: requests>=2.26.0 in /usr/local/lib/python3.10/dist-packages (from tiktoken->openai-whisper==20240930) (2.32.3)\n",
            "Requirement already satisfied: typing-extensions>=4.8.0 in /usr/local/lib/python3.10/dist-packages (from torch->openai-whisper==20240930) (4.12.2)\n",
            "Requirement already satisfied: networkx in /usr/local/lib/python3.10/dist-packages (from torch->openai-whisper==20240930) (3.4.2)\n",
            "Requirement already satisfied: jinja2 in /usr/local/lib/python3.10/dist-packages (from torch->openai-whisper==20240930) (3.1.4)\n",
            "Requirement already satisfied: fsspec in /usr/local/lib/python3.10/dist-packages (from torch->openai-whisper==20240930) (2024.6.1)\n",
            "Requirement already satisfied: sympy==1.13.1 in /usr/local/lib/python3.10/dist-packages (from torch->openai-whisper==20240930) (1.13.1)\n",
            "Requirement already satisfied: mpmath<1.4,>=1.1.0 in /usr/local/lib/python3.10/dist-packages (from sympy==1.13.1->torch->openai-whisper==20240930) (1.3.0)\n",
            "Requirement already satisfied: charset-normalizer<4,>=2 in /usr/local/lib/python3.10/dist-packages (from requests>=2.26.0->tiktoken->openai-whisper==20240930) (3.4.0)\n",
            "Requirement already satisfied: idna<4,>=2.5 in /usr/local/lib/python3.10/dist-packages (from requests>=2.26.0->tiktoken->openai-whisper==20240930) (3.10)\n",
            "Requirement already satisfied: urllib3<3,>=1.21.1 in /usr/local/lib/python3.10/dist-packages (from requests>=2.26.0->tiktoken->openai-whisper==20240930) (2.2.3)\n",
            "Requirement already satisfied: certifi>=2017.4.17 in /usr/local/lib/python3.10/dist-packages (from requests>=2.26.0->tiktoken->openai-whisper==20240930) (2024.8.30)\n",
            "Requirement already satisfied: MarkupSafe>=2.0 in /usr/local/lib/python3.10/dist-packages (from jinja2->torch->openai-whisper==20240930) (3.0.2)\n",
            "Downloading triton-3.1.0-cp310-cp310-manylinux_2_17_x86_64.manylinux2014_x86_64.whl (209.5 MB)\n",
            "\u001b[2K   \u001b[90m━━━━━━━━━━━━━━━━━━━━━━━━━━━━━━━━━━━━━━━━\u001b[0m \u001b[32m209.5/209.5 MB\u001b[0m \u001b[31m5.8 MB/s\u001b[0m eta \u001b[36m0:00:00\u001b[0m\n",
            "\u001b[?25hDownloading tiktoken-0.8.0-cp310-cp310-manylinux_2_17_x86_64.manylinux2014_x86_64.whl (1.2 MB)\n",
            "\u001b[2K   \u001b[90m━━━━━━━━━━━━━━━━━━━━━━━━━━━━━━━━━━━━━━━━\u001b[0m \u001b[32m1.2/1.2 MB\u001b[0m \u001b[31m49.7 MB/s\u001b[0m eta \u001b[36m0:00:00\u001b[0m\n",
            "\u001b[?25hBuilding wheels for collected packages: openai-whisper\n",
            "  Building wheel for openai-whisper (pyproject.toml) ... \u001b[?25l\u001b[?25hdone\n",
            "  Created wheel for openai-whisper: filename=openai_whisper-20240930-py3-none-any.whl size=803560 sha256=874850d89a7529a0da87b1d31e6312edc893176654c6a537b3a3f18ff65733d2\n",
            "  Stored in directory: /tmp/pip-ephem-wheel-cache-g79xu1w8/wheels/8b/6c/d0/622666868c179f156cf595c8b6f06f88bc5d80c4b31dccaa03\n",
            "Successfully built openai-whisper\n",
            "Installing collected packages: triton, tiktoken, openai-whisper\n",
            "Successfully installed openai-whisper-20240930 tiktoken-0.8.0 triton-3.1.0\n"
          ]
        }
      ]
    },
    {
      "cell_type": "code",
      "execution_count": 29,
      "metadata": {
        "colab": {
          "base_uri": "https://localhost:8080/"
        },
        "id": "pWLhwKvCXRAB",
        "outputId": "1c3d842f-e6eb-4f5d-9f5b-4c21333c1109"
      },
      "outputs": [
        {
          "output_type": "stream",
          "name": "stderr",
          "text": [
            "/usr/local/lib/python3.10/dist-packages/whisper/__init__.py:150: FutureWarning: You are using `torch.load` with `weights_only=False` (the current default value), which uses the default pickle module implicitly. It is possible to construct malicious pickle data which will execute arbitrary code during unpickling (See https://github.com/pytorch/pytorch/blob/main/SECURITY.md#untrusted-models for more details). In a future release, the default value for `weights_only` will be flipped to `True`. This limits the functions that could be executed during unpickling. Arbitrary objects will no longer be allowed to be loaded via this mode unless they are explicitly allowlisted by the user via `torch.serialization.add_safe_globals`. We recommend you start setting `weights_only=True` for any use case where you don't have full control of the loaded file. Please open an issue on GitHub for any issues related to this experimental feature.\n",
            "  checkpoint = torch.load(fp, map_location=device)\n"
          ]
        }
      ],
      "source": [
        "import whisper\n",
        "\n",
        "model=whisper.load_model('base')"
      ]
    },
    {
      "cell_type": "code",
      "source": [
        "result = model.transcribe(\"/content/audio.mp3\",language='en',word_timestamps=True)"
      ],
      "metadata": {
        "colab": {
          "base_uri": "https://localhost:8080/"
        },
        "id": "tLVwaaZpX831",
        "outputId": "ea783163-cb11-4ef5-b5a0-a65c1518a122"
      },
      "execution_count": 30,
      "outputs": [
        {
          "output_type": "stream",
          "name": "stderr",
          "text": [
            "/usr/local/lib/python3.10/dist-packages/whisper/transcribe.py:132: UserWarning: FP16 is not supported on CPU; using FP32 instead\n",
            "  warnings.warn(\"FP16 is not supported on CPU; using FP32 instead\")\n"
          ]
        }
      ]
    },
    {
      "cell_type": "code",
      "source": [
        "print(\"Result Structure:\", result)\n"
      ],
      "metadata": {
        "colab": {
          "base_uri": "https://localhost:8080/"
        },
        "id": "qwM2F6wIbqTX",
        "outputId": "61b62bb6-305d-47ab-b7ca-6b12b2dc297f"
      },
      "execution_count": 31,
      "outputs": [
        {
          "output_type": "stream",
          "name": "stdout",
          "text": [
            "Result Structure: {'text': \" I can't believe you would say something like this, it's absolutely ridiculous and quite frankly really idiotic. You think you are so clever but you are just making a fool of yourself. If you keep this up, you are going to end up in a lot of trouble. I mean seriously, who even uses words like fuck in your conversation, it is so unnecessary. And don't get me scattered on how shit has become a part of everyday language. Can't we just have a normal conversation between us starting to such a flashy words?\", 'segments': [{'id': 0, 'seek': 0, 'start': 0.0, 'end': 8.02, 'text': \" I can't believe you would say something like this, it's absolutely ridiculous and quite frankly really idiotic.\", 'tokens': [50364, 286, 393, 380, 1697, 291, 576, 584, 746, 411, 341, 11, 309, 311, 3122, 11083, 293, 1596, 11939, 534, 14270, 299, 13, 50764], 'temperature': 0.0, 'avg_logprob': -0.21238270927877986, 'compression_ratio': 1.5570776255707763, 'no_speech_prob': 0.04891567304730415, 'words': [{'word': ' I', 'start': 0.0, 'end': 0.4, 'probability': 0.6210141777992249}, {'word': \" can't\", 'start': 0.4, 'end': 0.92, 'probability': 0.8920338749885559}, {'word': ' believe', 'start': 0.92, 'end': 1.14, 'probability': 0.9945091605186462}, {'word': ' you', 'start': 1.14, 'end': 1.62, 'probability': 0.8615220785140991}, {'word': ' would', 'start': 1.62, 'end': 1.82, 'probability': 0.9141185283660889}, {'word': ' say', 'start': 1.82, 'end': 2.0, 'probability': 0.9853057265281677}, {'word': ' something', 'start': 2.0, 'end': 2.44, 'probability': 0.9679239988327026}, {'word': ' like', 'start': 2.44, 'end': 2.74, 'probability': 0.8806878328323364}, {'word': ' this,', 'start': 2.74, 'end': 3.02, 'probability': 0.5528581738471985}, {'word': \" it's\", 'start': 3.06, 'end': 3.32, 'probability': 0.7917788028717041}, {'word': ' absolutely', 'start': 3.32, 'end': 3.96, 'probability': 0.8041203022003174}, {'word': ' ridiculous', 'start': 3.96, 'end': 4.5, 'probability': 0.9765521287918091}, {'word': ' and', 'start': 4.5, 'end': 5.38, 'probability': 0.6806997656822205}, {'word': ' quite', 'start': 5.38, 'end': 5.76, 'probability': 0.9511375427246094}, {'word': ' frankly', 'start': 5.76, 'end': 6.34, 'probability': 0.9883710741996765}, {'word': ' really', 'start': 6.34, 'end': 6.78, 'probability': 0.8615778684616089}, {'word': ' idiotic.', 'start': 6.78, 'end': 8.02, 'probability': 0.8128019273281097}]}, {'id': 1, 'seek': 0, 'start': 8.02, 'end': 12.5, 'text': ' You think you are so clever but you are just making a fool of yourself.', 'tokens': [50764, 509, 519, 291, 366, 370, 13494, 457, 291, 366, 445, 1455, 257, 7979, 295, 1803, 13, 51014], 'temperature': 0.0, 'avg_logprob': -0.21238270927877986, 'compression_ratio': 1.5570776255707763, 'no_speech_prob': 0.04891567304730415, 'words': [{'word': ' You', 'start': 8.02, 'end': 8.26, 'probability': 0.9282005429267883}, {'word': ' think', 'start': 8.26, 'end': 8.82, 'probability': 0.6953943967819214}, {'word': ' you', 'start': 8.82, 'end': 9.24, 'probability': 0.9706215262413025}, {'word': ' are', 'start': 9.24, 'end': 9.44, 'probability': 0.9412268400192261}, {'word': ' so', 'start': 9.44, 'end': 9.78, 'probability': 0.9568248391151428}, {'word': ' clever', 'start': 9.78, 'end': 10.08, 'probability': 0.9947344064712524}, {'word': ' but', 'start': 10.08, 'end': 10.56, 'probability': 0.7183765769004822}, {'word': ' you', 'start': 10.56, 'end': 10.78, 'probability': 0.9706704616546631}, {'word': ' are', 'start': 10.78, 'end': 10.86, 'probability': 0.8762189149856567}, {'word': ' just', 'start': 10.86, 'end': 11.06, 'probability': 0.9906446933746338}, {'word': ' making', 'start': 11.06, 'end': 11.48, 'probability': 0.9914602041244507}, {'word': ' a', 'start': 11.48, 'end': 11.7, 'probability': 0.928413450717926}, {'word': ' fool', 'start': 11.7, 'end': 11.92, 'probability': 0.6788377165794373}, {'word': ' of', 'start': 11.92, 'end': 12.12, 'probability': 0.9758608341217041}, {'word': ' yourself.', 'start': 12.12, 'end': 12.5, 'probability': 0.807192325592041}]}, {'id': 2, 'seek': 0, 'start': 13.02, 'end': 16.86, 'text': ' If you keep this up, you are going to end up in a lot of trouble.', 'tokens': [51014, 759, 291, 1066, 341, 493, 11, 291, 366, 516, 281, 917, 493, 294, 257, 688, 295, 5253, 13, 51214], 'temperature': 0.0, 'avg_logprob': -0.21238270927877986, 'compression_ratio': 1.5570776255707763, 'no_speech_prob': 0.04891567304730415, 'words': [{'word': ' If', 'start': 13.02, 'end': 13.2, 'probability': 0.9669344425201416}, {'word': ' you', 'start': 13.2, 'end': 13.3, 'probability': 0.8895071148872375}, {'word': ' keep', 'start': 13.3, 'end': 13.6, 'probability': 0.9941362142562866}, {'word': ' this', 'start': 13.6, 'end': 13.88, 'probability': 0.9746989607810974}, {'word': ' up,', 'start': 13.88, 'end': 14.18, 'probability': 0.9973764419555664}, {'word': ' you', 'start': 14.48, 'end': 14.66, 'probability': 0.9705647826194763}, {'word': ' are', 'start': 14.66, 'end': 14.72, 'probability': 0.7800484299659729}, {'word': ' going', 'start': 14.72, 'end': 14.94, 'probability': 0.9974168539047241}, {'word': ' to', 'start': 14.94, 'end': 15.14, 'probability': 0.9962382316589355}, {'word': ' end', 'start': 15.14, 'end': 15.4, 'probability': 0.9939624667167664}, {'word': ' up', 'start': 15.4, 'end': 15.62, 'probability': 0.9956865310668945}, {'word': ' in', 'start': 15.62, 'end': 15.8, 'probability': 0.9758839011192322}, {'word': ' a', 'start': 15.8, 'end': 15.94, 'probability': 0.399381548166275}, {'word': ' lot', 'start': 15.94, 'end': 16.2, 'probability': 0.331027090549469}, {'word': ' of', 'start': 16.2, 'end': 16.54, 'probability': 0.9973010420799255}, {'word': ' trouble.', 'start': 16.54, 'end': 16.86, 'probability': 0.9917325973510742}]}, {'id': 3, 'seek': 0, 'start': 17.18, 'end': 23.68, 'text': ' I mean seriously, who even uses words like fuck in your conversation, it is so unnecessary.', 'tokens': [51214, 286, 914, 6638, 11, 567, 754, 4960, 2283, 411, 3275, 294, 428, 3761, 11, 309, 307, 370, 19350, 13, 51564], 'temperature': 0.0, 'avg_logprob': -0.21238270927877986, 'compression_ratio': 1.5570776255707763, 'no_speech_prob': 0.04891567304730415, 'words': [{'word': ' I', 'start': 17.18, 'end': 17.4, 'probability': 0.9888010025024414}, {'word': ' mean', 'start': 17.4, 'end': 17.62, 'probability': 0.9987747073173523}, {'word': ' seriously,', 'start': 17.62, 'end': 18.2, 'probability': 0.9131224751472473}, {'word': ' who', 'start': 18.74, 'end': 19.06, 'probability': 0.870254635810852}, {'word': ' even', 'start': 19.06, 'end': 19.46, 'probability': 0.9284719824790955}, {'word': ' uses', 'start': 19.46, 'end': 19.82, 'probability': 0.9854576587677002}, {'word': ' words', 'start': 19.82, 'end': 20.1, 'probability': 0.6614445447921753}, {'word': ' like', 'start': 20.1, 'end': 20.42, 'probability': 0.9950740933418274}, {'word': ' fuck', 'start': 20.42, 'end': 20.72, 'probability': 0.14789460599422455}, {'word': ' in', 'start': 20.72, 'end': 21.18, 'probability': 0.9861409664154053}, {'word': ' your', 'start': 21.18, 'end': 21.3, 'probability': 0.4373200833797455}, {'word': ' conversation,', 'start': 21.3, 'end': 21.78, 'probability': 0.9862902760505676}, {'word': ' it', 'start': 22.36, 'end': 22.44, 'probability': 0.9485021233558655}, {'word': ' is', 'start': 22.44, 'end': 22.64, 'probability': 0.9739762544631958}, {'word': ' so', 'start': 22.64, 'end': 22.9, 'probability': 0.9918179512023926}, {'word': ' unnecessary.', 'start': 22.9, 'end': 23.68, 'probability': 0.9939283132553101}]}, {'id': 4, 'seek': 2368, 'start': 23.68, 'end': 30.12, 'text': \" And don't get me scattered on how shit has become a part of everyday language.\", 'tokens': [50364, 400, 500, 380, 483, 385, 21986, 322, 577, 4611, 575, 1813, 257, 644, 295, 7429, 2856, 13, 50714], 'temperature': 0.0, 'avg_logprob': -0.3292059531578651, 'compression_ratio': 1.314516129032258, 'no_speech_prob': 0.12849187850952148, 'words': [{'word': ' And', 'start': 23.68, 'end': 24.36, 'probability': 0.2919425964355469}, {'word': \" don't\", 'start': 24.36, 'end': 24.78, 'probability': 0.9035721719264984}, {'word': ' get', 'start': 24.78, 'end': 24.98, 'probability': 0.9717743396759033}, {'word': ' me', 'start': 24.98, 'end': 25.28, 'probability': 0.9683467745780945}, {'word': ' scattered', 'start': 25.28, 'end': 26.02, 'probability': 0.3078553080558777}, {'word': ' on', 'start': 26.02, 'end': 26.5, 'probability': 0.9559261798858643}, {'word': ' how', 'start': 26.5, 'end': 26.76, 'probability': 0.9464033842086792}, {'word': ' shit', 'start': 26.76, 'end': 27.3, 'probability': 0.8943953514099121}, {'word': ' has', 'start': 27.3, 'end': 27.56, 'probability': 0.9880175590515137}, {'word': ' become', 'start': 27.56, 'end': 27.96, 'probability': 0.9865872263908386}, {'word': ' a', 'start': 27.96, 'end': 28.2, 'probability': 0.9393805265426636}, {'word': ' part', 'start': 28.2, 'end': 28.44, 'probability': 0.9973522424697876}, {'word': ' of', 'start': 28.44, 'end': 28.74, 'probability': 0.9950461387634277}, {'word': ' everyday', 'start': 28.74, 'end': 29.56, 'probability': 0.9316719174385071}, {'word': ' language.', 'start': 29.56, 'end': 30.12, 'probability': 0.7737759351730347}]}, {'id': 5, 'seek': 2368, 'start': 30.54, 'end': 35.8, 'text': \" Can't we just have a normal conversation between us starting to such a flashy words?\", 'tokens': [50714, 1664, 380, 321, 445, 362, 257, 2710, 3761, 1296, 505, 2891, 281, 1270, 257, 47873, 2283, 30, 51014], 'temperature': 0.0, 'avg_logprob': -0.3292059531578651, 'compression_ratio': 1.314516129032258, 'no_speech_prob': 0.12849187850952148, 'words': [{'word': \" Can't\", 'start': 30.54, 'end': 31.0, 'probability': 0.8864515721797943}, {'word': ' we', 'start': 31.0, 'end': 31.06, 'probability': 0.9897732138633728}, {'word': ' just', 'start': 31.06, 'end': 31.3, 'probability': 0.995776355266571}, {'word': ' have', 'start': 31.3, 'end': 31.6, 'probability': 0.9939426779747009}, {'word': ' a', 'start': 31.6, 'end': 31.72, 'probability': 0.9280668497085571}, {'word': ' normal', 'start': 31.72, 'end': 32.02, 'probability': 0.9735574126243591}, {'word': ' conversation', 'start': 32.02, 'end': 32.68, 'probability': 0.9887890219688416}, {'word': ' between', 'start': 32.68, 'end': 33.48, 'probability': 0.3278534710407257}, {'word': ' us', 'start': 33.48, 'end': 33.86, 'probability': 0.18407230079174042}, {'word': ' starting', 'start': 33.86, 'end': 34.2, 'probability': 0.1131085529923439}, {'word': ' to', 'start': 34.2, 'end': 34.5, 'probability': 0.5792167782783508}, {'word': ' such', 'start': 34.5, 'end': 34.92, 'probability': 0.43023476004600525}, {'word': ' a', 'start': 34.92, 'end': 35.04, 'probability': 0.8108218312263489}, {'word': ' flashy', 'start': 35.04, 'end': 35.42, 'probability': 0.5584337711334229}, {'word': ' words?', 'start': 35.42, 'end': 35.8, 'probability': 0.9317761063575745}]}], 'language': 'en'}\n"
          ]
        }
      ]
    },
    {
      "cell_type": "code",
      "source": [
        "print(result['segments'][0])"
      ],
      "metadata": {
        "colab": {
          "base_uri": "https://localhost:8080/"
        },
        "id": "nlbQzwomYXt3",
        "outputId": "db45dcfc-cf7b-4e63-bfa8-53df10dde913"
      },
      "execution_count": 32,
      "outputs": [
        {
          "output_type": "stream",
          "name": "stdout",
          "text": [
            "{'id': 0, 'seek': 0, 'start': 0.0, 'end': 8.02, 'text': \" I can't believe you would say something like this, it's absolutely ridiculous and quite frankly really idiotic.\", 'tokens': [50364, 286, 393, 380, 1697, 291, 576, 584, 746, 411, 341, 11, 309, 311, 3122, 11083, 293, 1596, 11939, 534, 14270, 299, 13, 50764], 'temperature': 0.0, 'avg_logprob': -0.21238270927877986, 'compression_ratio': 1.5570776255707763, 'no_speech_prob': 0.04891567304730415, 'words': [{'word': ' I', 'start': 0.0, 'end': 0.4, 'probability': 0.6210141777992249}, {'word': \" can't\", 'start': 0.4, 'end': 0.92, 'probability': 0.8920338749885559}, {'word': ' believe', 'start': 0.92, 'end': 1.14, 'probability': 0.9945091605186462}, {'word': ' you', 'start': 1.14, 'end': 1.62, 'probability': 0.8615220785140991}, {'word': ' would', 'start': 1.62, 'end': 1.82, 'probability': 0.9141185283660889}, {'word': ' say', 'start': 1.82, 'end': 2.0, 'probability': 0.9853057265281677}, {'word': ' something', 'start': 2.0, 'end': 2.44, 'probability': 0.9679239988327026}, {'word': ' like', 'start': 2.44, 'end': 2.74, 'probability': 0.8806878328323364}, {'word': ' this,', 'start': 2.74, 'end': 3.02, 'probability': 0.5528581738471985}, {'word': \" it's\", 'start': 3.06, 'end': 3.32, 'probability': 0.7917788028717041}, {'word': ' absolutely', 'start': 3.32, 'end': 3.96, 'probability': 0.8041203022003174}, {'word': ' ridiculous', 'start': 3.96, 'end': 4.5, 'probability': 0.9765521287918091}, {'word': ' and', 'start': 4.5, 'end': 5.38, 'probability': 0.6806997656822205}, {'word': ' quite', 'start': 5.38, 'end': 5.76, 'probability': 0.9511375427246094}, {'word': ' frankly', 'start': 5.76, 'end': 6.34, 'probability': 0.9883710741996765}, {'word': ' really', 'start': 6.34, 'end': 6.78, 'probability': 0.8615778684616089}, {'word': ' idiotic.', 'start': 6.78, 'end': 8.02, 'probability': 0.8128019273281097}]}\n"
          ]
        }
      ]
    },
    {
      "cell_type": "code",
      "source": [
        "import string\n",
        "\n",
        "cuss_Words = {'fuck', 'shit', 'idiotic'}\n",
        "timeStamp_cussWords = []\n",
        "for segment in result['segments']:\n",
        "    for word_info in segment['words']:\n",
        "        word = word_info['word'].lower().strip()\n",
        "        print(f\"Checking word: '{word}'\")\n",
        "        if word in cuss_Words:\n",
        "            print(word)\n",
        "            timeStamp_cussWords.append((word_info['start'], word_info['end']))\n",
        "print(\"Cuss Words Set:\", cuss_Words)\n",
        "print(\"Timestamps of curse words:\", timeStamp_cussWords)\n",
        "\n"
      ],
      "metadata": {
        "colab": {
          "base_uri": "https://localhost:8080/"
        },
        "id": "BFvxYyDwYMft",
        "outputId": "754f241b-07ec-4073-c154-004b83288d99"
      },
      "execution_count": 35,
      "outputs": [
        {
          "output_type": "stream",
          "name": "stdout",
          "text": [
            "Checking word: 'i'\n",
            "Checking word: 'can't'\n",
            "Checking word: 'believe'\n",
            "Checking word: 'you'\n",
            "Checking word: 'would'\n",
            "Checking word: 'say'\n",
            "Checking word: 'something'\n",
            "Checking word: 'like'\n",
            "Checking word: 'this,'\n",
            "Checking word: 'it's'\n",
            "Checking word: 'absolutely'\n",
            "Checking word: 'ridiculous'\n",
            "Checking word: 'and'\n",
            "Checking word: 'quite'\n",
            "Checking word: 'frankly'\n",
            "Checking word: 'really'\n",
            "Checking word: 'idiotic.'\n",
            "Checking word: 'you'\n",
            "Checking word: 'think'\n",
            "Checking word: 'you'\n",
            "Checking word: 'are'\n",
            "Checking word: 'so'\n",
            "Checking word: 'clever'\n",
            "Checking word: 'but'\n",
            "Checking word: 'you'\n",
            "Checking word: 'are'\n",
            "Checking word: 'just'\n",
            "Checking word: 'making'\n",
            "Checking word: 'a'\n",
            "Checking word: 'fool'\n",
            "Checking word: 'of'\n",
            "Checking word: 'yourself.'\n",
            "Checking word: 'if'\n",
            "Checking word: 'you'\n",
            "Checking word: 'keep'\n",
            "Checking word: 'this'\n",
            "Checking word: 'up,'\n",
            "Checking word: 'you'\n",
            "Checking word: 'are'\n",
            "Checking word: 'going'\n",
            "Checking word: 'to'\n",
            "Checking word: 'end'\n",
            "Checking word: 'up'\n",
            "Checking word: 'in'\n",
            "Checking word: 'a'\n",
            "Checking word: 'lot'\n",
            "Checking word: 'of'\n",
            "Checking word: 'trouble.'\n",
            "Checking word: 'i'\n",
            "Checking word: 'mean'\n",
            "Checking word: 'seriously,'\n",
            "Checking word: 'who'\n",
            "Checking word: 'even'\n",
            "Checking word: 'uses'\n",
            "Checking word: 'words'\n",
            "Checking word: 'like'\n",
            "Checking word: 'fuck'\n",
            "fuck\n",
            "Checking word: 'in'\n",
            "Checking word: 'your'\n",
            "Checking word: 'conversation,'\n",
            "Checking word: 'it'\n",
            "Checking word: 'is'\n",
            "Checking word: 'so'\n",
            "Checking word: 'unnecessary.'\n",
            "Checking word: 'and'\n",
            "Checking word: 'don't'\n",
            "Checking word: 'get'\n",
            "Checking word: 'me'\n",
            "Checking word: 'scattered'\n",
            "Checking word: 'on'\n",
            "Checking word: 'how'\n",
            "Checking word: 'shit'\n",
            "shit\n",
            "Checking word: 'has'\n",
            "Checking word: 'become'\n",
            "Checking word: 'a'\n",
            "Checking word: 'part'\n",
            "Checking word: 'of'\n",
            "Checking word: 'everyday'\n",
            "Checking word: 'language.'\n",
            "Checking word: 'can't'\n",
            "Checking word: 'we'\n",
            "Checking word: 'just'\n",
            "Checking word: 'have'\n",
            "Checking word: 'a'\n",
            "Checking word: 'normal'\n",
            "Checking word: 'conversation'\n",
            "Checking word: 'between'\n",
            "Checking word: 'us'\n",
            "Checking word: 'starting'\n",
            "Checking word: 'to'\n",
            "Checking word: 'such'\n",
            "Checking word: 'a'\n",
            "Checking word: 'flashy'\n",
            "Checking word: 'words?'\n",
            "Cuss Words Set: {'shit', 'idiotic', 'fuck'}\n",
            "Timestamps of curse words: [(20.42, 20.72), (26.76, 27.3)]\n"
          ]
        }
      ]
    },
    {
      "cell_type": "code",
      "source": [
        "!pip install pydub"
      ],
      "metadata": {
        "colab": {
          "base_uri": "https://localhost:8080/"
        },
        "id": "nFNcWM7rd4EH",
        "outputId": "e4b36cb0-6877-4370-a5a3-633c5d6a4433"
      },
      "execution_count": 36,
      "outputs": [
        {
          "output_type": "stream",
          "name": "stdout",
          "text": [
            "Collecting pydub\n",
            "  Downloading pydub-0.25.1-py2.py3-none-any.whl.metadata (1.4 kB)\n",
            "Downloading pydub-0.25.1-py2.py3-none-any.whl (32 kB)\n",
            "Installing collected packages: pydub\n",
            "Successfully installed pydub-0.25.1\n"
          ]
        }
      ]
    },
    {
      "cell_type": "code",
      "source": [
        "from pydub import AudioSegment\n",
        "from pydub.generators import Sine"
      ],
      "metadata": {
        "id": "ip5DxTIlYSs1"
      },
      "execution_count": 37,
      "outputs": []
    },
    {
      "cell_type": "code",
      "source": [
        "audio = AudioSegment.from_file('audio.mp3')\n",
        "beep_duration=1000\n",
        "beep_sound=Sine(1000).to_audio_segment(duration=beep_duration)\n",
        "for start , end in timeStamp_cussWords:\n",
        "    start_ms=int(start*1000)\n",
        "    end_ms=int(end*1000)\n",
        "    audio=audio[:start_ms]+beep_sound+audio[end_ms:]\n",
        "audio.export(\"censored_audio\",format=\"mp3\")"
      ],
      "metadata": {
        "colab": {
          "base_uri": "https://localhost:8080/"
        },
        "id": "6nCLaq6kYTY9",
        "outputId": "00033381-fea3-4852-ccfb-b0094fca36d8"
      },
      "execution_count": 38,
      "outputs": [
        {
          "output_type": "execute_result",
          "data": {
            "text/plain": [
              "<_io.BufferedRandom name='censored_audio'>"
            ]
          },
          "metadata": {},
          "execution_count": 38
        }
      ]
    }
  ]
}